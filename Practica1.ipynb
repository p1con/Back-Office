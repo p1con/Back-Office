{
 "cells": [
  {
   "cell_type": "markdown",
   "metadata": {},
   "source": [
    "\n",
    "![UC3M!](https://www.uc3m.es/ss/Satellite?blobcol=urldata&blobkey=id&blobtable=MungoBlobs&blobwhere=1371588158173&ssbinary=true )\n",
    "\n",
    "\n",
    "> **Algortimos de Back-Office**\n",
    ">\n",
    "> **Máster Universitario en Tecnologías del sector financiero: FINTECH**\n",
    ">\n",
    "> **Universidad Carlos III de Madrid**\n",
    ">\n",
    "> **2023/2024**\n",
    ">\n",
    "> **Nombre y apellidos del Alumno:** "
   ]
  },
  {
   "cell_type": "markdown",
   "metadata": {},
   "source": [
    "# Práctica 1: Bonos e Instrumentos Derivados de Tipos de Interés "
   ]
  },
  {
   "cell_type": "markdown",
   "metadata": {},
   "source": [
    "## Consideraciones Generales\n",
    "\n",
    " * El alumno deberá entregar la práctica en un único fichero `*.ipyb` con formato `\"NombreApellidos.ipyb\"`\n",
    " * La entrega del ejercicio es requisito indispensable para superar la asignatura\n",
    " * El ejercicio es individual e intrasferible\n",
    " * Es necesario alcanzar una calificación mínima de $4.0/10.0$ en la práctica para superar la materia\n",
    " * El ejercicio se debe entregar en el curso virtual de la asignatura antes de la fecha establecida\n",
    "   \n",
    "\n",
    "## Criterios de evaluación\n",
    "\n",
    " * Motivación, argumentación y explicación de las soluciones propuestas\n",
    " * Claridad de la exposición y capacidad de síntesis\n",
    " * Empleo de Markdown para comentarios y exposición de ideas y $\\LaTeX$ para las fórmulas matemáticas\n",
    " * Los ejercicios de programación se realizarán en `C++`. Se valorará\n",
    "   * Código estructurado en clases y funciones\n",
    "   * Añada las cabeceras necesarias en cada sección de código. Ej: `#include <cmath>`\n",
    "   * Empleo de la `STL`* y características `C++11/C++17`   \n",
    "   * Incorporar trazas en el código empleando `std::cout` para mostrar resultados intermedios y resultados finales\n",
    " * Puede emplear una o varias secciones de markdown y/o código para cada cuestión. No hay un tamaño tasado\n",
    " * Es imprescindible mencionar la bibliografía consultada en formato **APA** ([Citas APA UC3M](https://uc3m.libguides.com/guias_tematicas/citas_bibliograficas/APA)) en cada ejercicio o al final del documento\n",
    " * Se cuidará la ortografía y gramática. El código y comentarios en el código se realizarán en **inglés** mientras que los ejercicios de exposición se redactarán en **castellano/español**\n",
    "  "
   ]
  },
  {
   "cell_type": "markdown",
   "metadata": {},
   "source": [
    "## Ejercicio 1 : Escándalo de la fijación de la tasa Libor \n",
    "\n",
    "Redacte una exposición-resumen con extensión inferior a veinte líneas sobre el escándalo de la fijación de la tasa Libor durante la década de 2010. \n",
    "\n",
    "Añada al final uno o dos párrafos con una reflexión personal.\n",
    "\n",
    "Haga uso de bibliografía contrastada en línea \n",
    "\n",
    "Puede emplear el siguiente video (Fuente: <https://www.youtube.com/watch?v=BYoejdKkKpM>, ***Council on Foreign Relations***) como punto de partida:\n",
    "\n",
    "> [![Image alt text](https://img.youtube.com/vi/BYoejdKkKpM/0.jpg)](https://www.youtube.com/watch?v=BYoejdKkKpM)"
   ]
  },
  {
   "cell_type": "markdown",
   "metadata": {},
   "source": []
  },
  {
   "cell_type": "markdown",
   "metadata": {},
   "source": [
    "## Ejercicio 2 : Valoración de Bonos\n",
    "\n",
    "### Ejercicio 2.1: Precio de Bonos Cupón Zero\n",
    "\n",
    "Dada la siguiente matriz, que contiene zero Coupon Rates, redacte una rutina en C++ que calcule los precios de los bonos cupón zero (también conocidos como factores de descuento) para cada fecha. Ejecute la rutina con las fechas y los tipos cupón cero facilitados en la matriz.\n",
    "\n",
    "Se sugiere la siguiente signatura para la función objetivo:\n",
    "\n",
    "`std::vector<double> getZeros(const std::vector<double>& maturities, const std::vector<double>& zeroRates)`\n",
    "\n",
    "Considere `std::generate()` para la generación de fechas en períodos semianuales sucesivos.\n",
    "\n",
    "Maturity (years)| Zero Coupon Rate\n",
    ":---|:---: \n",
    "0.5 | 2.0\n",
    "1.0 | 2.1\n",
    "1.5 | 2.2\n",
    "2.0 | 2.3\n",
    "2.5 | 2.4\n",
    "3.0 | 2.5\n",
    "3.5 | 2.6\n",
    "4.0 | 2.7\n",
    "4.5 | 2.8\n",
    "5.0 | 2.9\n",
    "5.5 | 3.0\n",
    "6.0 | 3.1\n",
    "6.5 | 3.2\n",
    "7.0 | 3.3\n",
    "7.5 | 3.4\n",
    "8.0 | 3.5\n",
    "8.5 | 3.6\n",
    "9.0 | 3.7\n",
    "9.5 | 3.8\n",
    "10.0 | 4.0"
   ]
  },
  {
   "cell_type": "code",
   "execution_count": null,
   "metadata": {},
   "outputs": [],
   "source": []
  },
  {
   "cell_type": "code",
   "execution_count": null,
   "metadata": {},
   "outputs": [],
   "source": []
  },
  {
   "cell_type": "markdown",
   "metadata": {},
   "source": [
    "### Ejercicio 2.2: Precio teórico de Bonos y Par Yield\n",
    "\n",
    "Calcule el precio teórico y *par yield* (No es necesario calcular *bond yield*) de los siguientes Bonos:\n",
    " 1. **Bono 1**: Bono con vencimiento 2 años, principal de \\$100 y cupones con tasa anual del 6\\% pagados con frecuencia trimestral \n",
    " 2. **Bono 2**: Bono con vencimiento 10 años, principal de \\$200 y cupones con tasa anual del 2\\% pagados con frecuencia semestral\n",
    " \n",
    "Para ello:\n",
    "\n",
    "1. Escriba una clase `YieldCurve` que contenga fracciones de año y factores de descuento (sinónimo de bonos cupón cero). No es necesario que interpole factores de descuento entre fechas. Puede emplear en la rutina del ***ejercicio 2.1***\n",
    "\n",
    "> Se sugiere el siguiente constructor y disponer de un método para calcular factores de descuento:\n",
    ">\n",
    "> `YieldCurve(const std::vector<double>& zeroCouponBondPrices, const std::vector<double>& maturities)`\n",
    ">\n",
    "> `double getZero(double accrualFraction)`\n",
    "\n",
    "Evalúe la posibilidad de emplear `std::lower_bound` para realizar búsquedas ordenadas en vectores de fechas.\n",
    "\n",
    "Instancie un objeto curva con los datos del ***ejercicio 2.1***\n",
    "\n",
    "> `std::shared_ptr<YieldCurve> myCurve = std::make_shared<YieldCurve>(zeroCouponBondPrices, maturities);`\n",
    "    \n",
    "\n",
    "2. Escriba una clase `Bond` en C++ que contenga como miembros de la clase las principales características de un bono. Se sugiere las siguientes variables miembro (puede añadir otras que le resulten de utilidad):\n",
    " * Cupón anualizado\n",
    " * Fechas de los cupones en fracción de año\n",
    " * *Maturity* del bono\n",
    " * Nominal de la inversión\n",
    " * frecuencia de pago de cupón\n",
    " * Precio teórico\n",
    " * *Par yield*\n",
    " \n",
    "> Se sugiere como constructor:\n",
    "> \n",
    "> `Bond(double maturity, double coupon, double frequency, double notional, const std::vector<double>& couponDates, const std::shared_ptr<YieldCurve>& mycurve)`\n",
    " \n",
    "La clase debe disponer métodos `double computeBondPrice()` y `double computeParYield()`.\n",
    "\n",
    "Además, es recomendable disponer de métodos `get()` que permitan recuperar los principales parámetros de riesgo (variables miembro de la clase).\n"
   ]
  },
  {
   "cell_type": "markdown",
   "metadata": {},
   "source": [
    "### Ejercicio 2.3: Cálculo de la duración y convexidad de Bonos\n",
    "\n",
    "Para los bonos definidos en el ejercicio 1.4, calcule dos funciones adiciones dentro de la clase Bond que nos permita calcular la duración y convexidad.\n",
    "\n",
    "$    D = \\sum_{i=1}^N t_i [ \\frac{c_i e^{-y t_i}}{B} ]$\n",
    "\n",
    "$    C = \\frac{1}{B} \\frac{d^2 B}{dy^2} = \\frac{\\sum_{i=1}^N c_i t_i^2 e^{-y t_i}}{B} $\n",
    "\n",
    "\n",
    "> Se sugieren los siguientes métodos:\n",
    ">\n",
    "> `double computeBondDuration()`\n",
    ">\n",
    "> `double computeBondConvexity()`\n",
    "\n",
    "No es necesario almacenar como variables miembro de la clase la **duración** y la **convexidad** del bono."
   ]
  },
  {
   "cell_type": "code",
   "execution_count": null,
   "metadata": {},
   "outputs": [],
   "source": []
  },
  {
   "cell_type": "code",
   "execution_count": null,
   "metadata": {},
   "outputs": [],
   "source": []
  },
  {
   "cell_type": "code",
   "execution_count": null,
   "metadata": {},
   "outputs": [],
   "source": []
  },
  {
   "cell_type": "markdown",
   "metadata": {},
   "source": [
    "### Ejercicio 2.4: Duración y convexidad de Bonos\n",
    "\n",
    "a) Justifique los resultados obtenidos para la **duración** de cada bono respecto de la duración del bono cupón cero correspondiente en el ***ejercicio 2.3***\n",
    "\n",
    "b) Responda brevemente a las siguientes cuestiones\n",
    "\n",
    " * ¿Por qué es tan popular el concepto de Duración de un Bono? Justifique su respuesta\n",
    " \n",
    " * ¿Para qué se emplea la convexidad? Justifique su respuesta\n",
    " \n",
    " * Justifique el empleo de la duración y la convexidad desde un punto de vista matemático\n"
   ]
  },
  {
   "cell_type": "markdown",
   "metadata": {},
   "source": []
  },
  {
   "cell_type": "markdown",
   "metadata": {},
   "source": [
    "## Ejercicio 3 : Valoración de un Basis Swap\n",
    "\n",
    "### Ejercicio 3.1: Generación de curvas de factores de descuento\n",
    "\n",
    "Genere otras dos matrices alternativas de tipos cupón zero sumando $0.5\\%$ y $1.0\\%$ a todos los plazos , de modo que:\n",
    "\n",
    "$\\hat{R_i}^1 = R_i + 0.5\\%, \\forall i$\n",
    "\n",
    "$\\hat{R_i}^2 = R_i + 1.0\\%,  \\forall i$\n",
    "\n",
    "Como resultado, vamos a obtener tres curvas de factores de descuento, $P^{disc}(t,T)$ (ya calculada en el ***ejercicio 2.2***), $P^{est}_1(t,T)$ y $P^{est}_2(t,T)$\n",
    "\n",
    "Para ello:\n",
    "\n",
    "1. Primero obtenga tipos cupón zero para las dos curvas de estimación `zeroRatesEst1` y `zeroRatesEst2`.  \n",
    "   * Tenga en cuenta las capacidades de `std::transform` y apóyese en una función `Lambda` para generar los incrementos de tipos cupón zero\n",
    "2. Calcule factores de descuento empleando la rutina del **ejercicio 2.1**. Liste todos los factores de descuento de cada una de las dos curvas\n",
    "3. Instancie dos objetos curva adicionales creando dos instancias de la clase `YieldCurve` del **ejercicio 2.2**:\n",
    "\n",
    ">  `std::shared_ptr<YieldCurve> myCurveEst1 = std::make_shared<YieldCurve>(zeroCouponBondPricesEst1, maturities);`  \n",
    ">  `std::shared_ptr<YieldCurve> myCurveEst2 = std::make_shared<YieldCurve>(zeroCouponBondPricesEst2, maturities);`"
   ]
  },
  {
   "cell_type": "code",
   "execution_count": null,
   "metadata": {},
   "outputs": [],
   "source": []
  },
  {
   "cell_type": "markdown",
   "metadata": {},
   "source": [
    "### Ejercicio 3.2: Cálculo del NPV de un Basis Swap\n",
    "\n",
    "Le recordamos la expresión del ***NPV*** de un **Basis Swap**:\n",
    "\n",
    "\\begin{equation}\\label{eq:basisSwap_1}\n",
    "    V_{basisSwap(t)} = V_{basisSwapleg A(t)} + V_{basisSwapleg B(t)}\n",
    "\\end{equation}\n",
    "\n",
    "\\begin{equation}\\label{eq:basisSwap_2}\n",
    "    V_{basisSwapleg A}(t) = \\sum_{i=0}^{N-1} \\tau_i P_{disc}(t, T_{i+1})L^{estA}(t,T_i,T_{i+1}) \n",
    "\\end{equation}\n",
    "\n",
    "\\begin{equation}\\label{eq:basisSwap_3}\n",
    "    V_{basisSwapleg B}(t) = \\sum_{j=0}^{M-1} \\tau_j P_{disc}(t, T_{j+1})(L^{estB}(t,T_j,T_{j+1}) + spread)\n",
    "\\end{equation}\n",
    "\n",
    "\n",
    "\n",
    "a) Añada una clase `BasisSwap` que tome como parámetros de entrada:\n",
    " * *spread* del *BasisSwap*\n",
    " * Curva de descuento\n",
    " * Curva de estimación de la pata 1\n",
    " * Curva de estimación de la pata 2\n",
    " * Fechas de la pata 1 en formato fracción de año\n",
    " * Fechas de la pata 2 en formato fracción de año\n",
    " * Nominal\n",
    " * Signo multiplicativo por pata ($m_1$, $m_2$)\n",
    " \n",
    "Se sugiere el siguiente constructor:\n",
    "\n",
    ">\n",
    ">  `BasisSwap(const std::shared_ptr<YieldCurve>& mycurve, const std::shared_ptr<YieldCurve>& myEstimationcurve1>,\n",
    ">  const std::shared_ptr<YieldCurve>& myEstimationcurve2, const std::vector<double>& leg1Dates,\n",
    ">  const std::vector<double>& leg2Dates, const double notional, const double spread, const double leg1Multiplier,\n",
    ">  const double leg2Multiplier)`\n",
    "\n",
    "\n",
    "***Nota de interés***: Puede revisar la clase **Swap** disponible en las notas del ***capítulo 2*** de la asignatura.\n",
    "\n",
    "La clase almacenara los parámetros de entrada como variables miembro y tendrá métodos `get()` para recuperar los mismos.\n",
    "Así mismo, existirá un método `double computeNPV() const` que permitirá calcular el ***net present value*** del **Basis Swap**\n",
    "\n",
    "b) Cree un objeto **BasisSwap** con los siguientes datos y calcule su NPV:\n",
    "\n",
    " * *spread* (Notar que se tiene en cuenta en la pata $2$) = $ 0.5 \\% $\n",
    " * Fechas de la pata 1 en formato fracción de año: 0.5, 1.0, 1.5. 2.0, 2.5, 3.0\n",
    " * Fechas de la pata 2 en formato fracción de año: 1.0, 2.0, 3.0\n",
    " * Nominal $1.000.000$\n",
    " * Signos:\n",
    "   * Pata 1: $m_1=+1$\n",
    "   * Pata 2: $m_2=-1$\n",
    "   \n",
    "Emplee las curvas de descuento calculadas en los ejercicios:\n",
    " * **ejercicio 2.2**: $P^{disc}(t,T)$\n",
    " * **ejercicio 3.1**: $P^{est}_1(t,T)$ y $P^{est}_2(t,T)$"
   ]
  },
  {
   "cell_type": "code",
   "execution_count": null,
   "metadata": {},
   "outputs": [],
   "source": []
  },
  {
   "cell_type": "code",
   "execution_count": null,
   "metadata": {},
   "outputs": [],
   "source": []
  },
  {
   "cell_type": "markdown",
   "metadata": {},
   "source": [
    "\n",
    "***Algortimos de Back-Office***\n",
    "\n",
    "***Miguel Ausín Amigo***\n",
    "\n",
    "***Licencia:*** <https://creativecommons.org/licenses/by-nc-sa/4.0/deed.en>"
   ]
  },
  {
   "cell_type": "code",
   "execution_count": null,
   "metadata": {},
   "outputs": [],
   "source": []
  }
 ],
 "metadata": {
  "kernelspec": {
   "display_name": "Python 3 (ipykernel)",
   "language": "python",
   "name": "python3"
  },
  "language_info": {
   "codemirror_mode": {
    "name": "ipython",
    "version": 3
   },
   "file_extension": ".py",
   "mimetype": "text/x-python",
   "name": "python",
   "nbconvert_exporter": "python",
   "pygments_lexer": "ipython3",
   "version": "3.11.6"
  }
 },
 "nbformat": 4,
 "nbformat_minor": 4
}
